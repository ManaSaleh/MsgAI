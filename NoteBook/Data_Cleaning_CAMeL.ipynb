{
 "cells": [
  {
   "cell_type": "markdown",
   "metadata": {},
   "source": [
    "## Preprocessing Arabic Data with CAMeL\n",
    "\n",
    "### Objective\n",
    "\n",
    "**Preprocess Arabic text data into three distinct versions to explore and identify the preprocessing method that yields the best results**"
   ]
  },
  {
   "cell_type": "code",
   "execution_count": 29,
   "metadata": {},
   "outputs": [],
   "source": [
    "import pandas as pd\n",
    "\n",
    "df1 = pd.read_csv('/Users/najlaalhomaid/Downloads/smsData.csv')"
   ]
  },
  {
   "cell_type": "markdown",
   "metadata": {},
   "source": [
    "### Version 1\n",
    "\n",
    "**Apply:**\n",
    "1. Normalization\n",
    "2. Remove Links\n",
    "3. Replace Punctuation\n",
    "4. Remove Extra Spaces"
   ]
  },
  {
   "cell_type": "code",
   "execution_count": 2,
   "metadata": {},
   "outputs": [
    {
     "name": "stdout",
     "output_type": "stream",
     "text": [
      "Requirement already satisfied: camel-tools in /Users/najlaalhomaid/.pyenv/versions/3.9.12/lib/python3.9/site-packages (1.5.5)\n",
      "Requirement already satisfied: future in /Users/najlaalhomaid/.pyenv/versions/3.9.12/lib/python3.9/site-packages (from camel-tools) (1.0.0)\n",
      "Requirement already satisfied: six in /Users/najlaalhomaid/.pyenv/versions/3.9.12/lib/python3.9/site-packages (from camel-tools) (1.16.0)\n",
      "Requirement already satisfied: docopt in /Users/najlaalhomaid/.pyenv/versions/3.9.12/lib/python3.9/site-packages (from camel-tools) (0.6.2)\n",
      "Requirement already satisfied: cachetools in /Users/najlaalhomaid/.pyenv/versions/3.9.12/lib/python3.9/site-packages (from camel-tools) (5.5.0)\n",
      "Requirement already satisfied: numpy<2 in /Users/najlaalhomaid/.pyenv/versions/3.9.12/lib/python3.9/site-packages (from camel-tools) (1.26.4)\n",
      "Requirement already satisfied: scipy in /Users/najlaalhomaid/.pyenv/versions/3.9.12/lib/python3.9/site-packages (from camel-tools) (1.13.1)\n",
      "Requirement already satisfied: pandas in /Users/najlaalhomaid/.pyenv/versions/3.9.12/lib/python3.9/site-packages (from camel-tools) (2.2.3)\n",
      "Requirement already satisfied: scikit-learn in /Users/najlaalhomaid/.pyenv/versions/3.9.12/lib/python3.9/site-packages (from camel-tools) (1.5.2)\n",
      "Requirement already satisfied: dill in /Users/najlaalhomaid/.pyenv/versions/3.9.12/lib/python3.9/site-packages (from camel-tools) (0.3.9)\n",
      "Requirement already satisfied: torch>=2.0 in /Users/najlaalhomaid/.pyenv/versions/3.9.12/lib/python3.9/site-packages (from camel-tools) (2.5.1)\n",
      "Requirement already satisfied: transformers<4.44.0,>=4.0 in /Users/najlaalhomaid/.pyenv/versions/3.9.12/lib/python3.9/site-packages (from camel-tools) (4.43.4)\n",
      "Requirement already satisfied: editdistance in /Users/najlaalhomaid/.pyenv/versions/3.9.12/lib/python3.9/site-packages (from camel-tools) (0.8.1)\n",
      "Requirement already satisfied: requests in /Users/najlaalhomaid/.pyenv/versions/3.9.12/lib/python3.9/site-packages (from camel-tools) (2.32.3)\n",
      "Requirement already satisfied: emoji in /Users/najlaalhomaid/.pyenv/versions/3.9.12/lib/python3.9/site-packages (from camel-tools) (2.14.0)\n",
      "Requirement already satisfied: pyrsistent in /Users/najlaalhomaid/.pyenv/versions/3.9.12/lib/python3.9/site-packages (from camel-tools) (0.20.0)\n",
      "Requirement already satisfied: tabulate in /Users/najlaalhomaid/.pyenv/versions/3.9.12/lib/python3.9/site-packages (from camel-tools) (0.9.0)\n",
      "Requirement already satisfied: tqdm in /Users/najlaalhomaid/.pyenv/versions/3.9.12/lib/python3.9/site-packages (from camel-tools) (4.67.1)\n",
      "Requirement already satisfied: muddler in /Users/najlaalhomaid/.pyenv/versions/3.9.12/lib/python3.9/site-packages (from camel-tools) (0.1.3)\n",
      "Requirement already satisfied: camel-kenlm>=2024.5.6 in /Users/najlaalhomaid/.pyenv/versions/3.9.12/lib/python3.9/site-packages (from camel-tools) (2024.5.6)\n",
      "Requirement already satisfied: filelock in /Users/najlaalhomaid/.pyenv/versions/3.9.12/lib/python3.9/site-packages (from torch>=2.0->camel-tools) (3.16.1)\n",
      "Requirement already satisfied: typing-extensions>=4.8.0 in /Users/najlaalhomaid/.pyenv/versions/3.9.12/lib/python3.9/site-packages (from torch>=2.0->camel-tools) (4.12.2)\n",
      "Requirement already satisfied: networkx in /Users/najlaalhomaid/.pyenv/versions/3.9.12/lib/python3.9/site-packages (from torch>=2.0->camel-tools) (3.2.1)\n",
      "Requirement already satisfied: jinja2 in /Users/najlaalhomaid/.pyenv/versions/3.9.12/lib/python3.9/site-packages (from torch>=2.0->camel-tools) (3.1.5)\n",
      "Requirement already satisfied: fsspec in /Users/najlaalhomaid/.pyenv/versions/3.9.12/lib/python3.9/site-packages (from torch>=2.0->camel-tools) (2024.10.0)\n",
      "Requirement already satisfied: sympy==1.13.1 in /Users/najlaalhomaid/.pyenv/versions/3.9.12/lib/python3.9/site-packages (from torch>=2.0->camel-tools) (1.13.1)\n",
      "Requirement already satisfied: mpmath<1.4,>=1.1.0 in /Users/najlaalhomaid/.pyenv/versions/3.9.12/lib/python3.9/site-packages (from sympy==1.13.1->torch>=2.0->camel-tools) (1.3.0)\n",
      "Requirement already satisfied: huggingface-hub<1.0,>=0.23.2 in /Users/najlaalhomaid/.pyenv/versions/3.9.12/lib/python3.9/site-packages (from transformers<4.44.0,>=4.0->camel-tools) (0.26.5)\n",
      "Requirement already satisfied: packaging>=20.0 in /Users/najlaalhomaid/.pyenv/versions/3.9.12/lib/python3.9/site-packages (from transformers<4.44.0,>=4.0->camel-tools) (24.2)\n",
      "Requirement already satisfied: pyyaml>=5.1 in /Users/najlaalhomaid/.pyenv/versions/3.9.12/lib/python3.9/site-packages (from transformers<4.44.0,>=4.0->camel-tools) (6.0.2)\n",
      "Requirement already satisfied: regex!=2019.12.17 in /Users/najlaalhomaid/.pyenv/versions/3.9.12/lib/python3.9/site-packages (from transformers<4.44.0,>=4.0->camel-tools) (2024.11.6)\n",
      "Requirement already satisfied: safetensors>=0.4.1 in /Users/najlaalhomaid/.pyenv/versions/3.9.12/lib/python3.9/site-packages (from transformers<4.44.0,>=4.0->camel-tools) (0.4.5)\n",
      "Requirement already satisfied: tokenizers<0.20,>=0.19 in /Users/najlaalhomaid/.pyenv/versions/3.9.12/lib/python3.9/site-packages (from transformers<4.44.0,>=4.0->camel-tools) (0.19.1)\n",
      "Requirement already satisfied: python-dateutil>=2.8.2 in /Users/najlaalhomaid/.pyenv/versions/3.9.12/lib/python3.9/site-packages (from pandas->camel-tools) (2.9.0.post0)\n",
      "Requirement already satisfied: pytz>=2020.1 in /Users/najlaalhomaid/.pyenv/versions/3.9.12/lib/python3.9/site-packages (from pandas->camel-tools) (2024.2)\n",
      "Requirement already satisfied: tzdata>=2022.7 in /Users/najlaalhomaid/.pyenv/versions/3.9.12/lib/python3.9/site-packages (from pandas->camel-tools) (2024.2)\n",
      "Requirement already satisfied: charset-normalizer<4,>=2 in /Users/najlaalhomaid/.pyenv/versions/3.9.12/lib/python3.9/site-packages (from requests->camel-tools) (3.4.0)\n",
      "Requirement already satisfied: idna<4,>=2.5 in /Users/najlaalhomaid/.pyenv/versions/3.9.12/lib/python3.9/site-packages (from requests->camel-tools) (3.10)\n",
      "Requirement already satisfied: urllib3<3,>=1.21.1 in /Users/najlaalhomaid/.pyenv/versions/3.9.12/lib/python3.9/site-packages (from requests->camel-tools) (2.2.3)\n",
      "Requirement already satisfied: certifi>=2017.4.17 in /Users/najlaalhomaid/.pyenv/versions/3.9.12/lib/python3.9/site-packages (from requests->camel-tools) (2024.8.30)\n",
      "Requirement already satisfied: joblib>=1.2.0 in /Users/najlaalhomaid/.pyenv/versions/3.9.12/lib/python3.9/site-packages (from scikit-learn->camel-tools) (1.4.2)\n",
      "Requirement already satisfied: threadpoolctl>=3.1.0 in /Users/najlaalhomaid/.pyenv/versions/3.9.12/lib/python3.9/site-packages (from scikit-learn->camel-tools) (3.5.0)\n",
      "Requirement already satisfied: MarkupSafe>=2.0 in /Users/najlaalhomaid/.pyenv/versions/3.9.12/lib/python3.9/site-packages (from jinja2->torch>=2.0->camel-tools) (3.0.2)\n",
      "Note: you may need to restart the kernel to use updated packages.\n"
     ]
    }
   ],
   "source": [
    "pip install --upgrade camel-tools"
   ]
  },
  {
   "cell_type": "code",
   "execution_count": 30,
   "metadata": {},
   "outputs": [],
   "source": [
    "from camel_tools.utils.normalize import normalize_unicode, normalize_alef_maksura_ar, normalize_alef_ar, normalize_teh_marbuta_ar\n",
    "import re\n",
    "\n",
    "def preprocess_text(text):\n",
    "    # Normalize Arabic\n",
    "    text = normalize_unicode(text)  # Normalize Unicode\n",
    "    text = normalize_alef_maksura_ar(text)  # Convert ى to ي\n",
    "    text = normalize_alef_ar(text)  # Convert إئؤأ to ء\n",
    "    text = normalize_teh_marbuta_ar(text) # Convert ة to ه\n",
    "    text = re.sub(r'[\\u064B-\\u065F]', '', text)   # Remove diacritics\n",
    "    text = re.sub(r'http\\S+|www.\\S+', '', text)  # Links\n",
    "    text = re.sub(r'[^\\w\\s]', ' ', text)  # Replace punctuation with a space\n",
    "    \n",
    "    # Remove extra spaces\n",
    "    text = re.sub(r'\\s+', ' ', text).strip()\n",
    "    return text"
   ]
  },
  {
   "cell_type": "code",
   "execution_count": 31,
   "metadata": {},
   "outputs": [],
   "source": [
    "df1[\"Message Content\"] = df1[\"Message Content\"].apply(preprocess_text)"
   ]
  },
  {
   "cell_type": "code",
   "execution_count": 32,
   "metadata": {},
   "outputs": [],
   "source": [
    "df1.to_csv(\"Data_cleaned_v1.csv\", index=False)\n"
   ]
  },
  {
   "cell_type": "markdown",
   "metadata": {},
   "source": [
    "### Version 2\n",
    "\n",
    "1. Remove Digits\n",
    "2. Remove stop words based on frequency analysis. This step helps in focusing on meaningful and distinct terms in the dataset."
   ]
  },
  {
   "cell_type": "code",
   "execution_count": 33,
   "metadata": {},
   "outputs": [],
   "source": [
    "def preprocess_text2(text):\n",
    "    \n",
    "    # Remove numbers\n",
    "    text = re.sub(r'\\d+', '', text)  # Remove digits (0-9)\n",
    "    return text"
   ]
  },
  {
   "cell_type": "code",
   "execution_count": 34,
   "metadata": {},
   "outputs": [],
   "source": [
    "df2 = df1"
   ]
  },
  {
   "cell_type": "code",
   "execution_count": 35,
   "metadata": {},
   "outputs": [],
   "source": [
    "df2[\"Message Content\"] = df2[\"Message Content\"].apply(preprocess_text2)"
   ]
  },
  {
   "cell_type": "code",
   "execution_count": 36,
   "metadata": {},
   "outputs": [
    {
     "data": {
      "text/plain": [
       "'عميلنا العزيز تم اكتشاف عطل فني علي هاتفكم رقم وتمت معالجته ونعتذر عن اي خلل قد تسبب فيه سابقا'"
      ]
     },
     "execution_count": 36,
     "metadata": {},
     "output_type": "execute_result"
    }
   ],
   "source": [
    "df2[\"Message Content\"][1]"
   ]
  },
  {
   "cell_type": "markdown",
   "metadata": {},
   "source": [
    "1. **Combine All Text**\n",
    "\n",
    "    Combine all messages into a single string for analysis."
   ]
  },
  {
   "cell_type": "code",
   "execution_count": 37,
   "metadata": {},
   "outputs": [],
   "source": [
    "all_text = \" \".join(df2[\"Message Content\"])"
   ]
  },
  {
   "cell_type": "markdown",
   "metadata": {},
   "source": [
    "2. **Tokenize Words**\n",
    "\n",
    "    Split the combined text into individual words for frequency analysis."
   ]
  },
  {
   "cell_type": "markdown",
   "metadata": {},
   "source": [
    "tokens = all_text.split()"
   ]
  },
  {
   "cell_type": "markdown",
   "metadata": {},
   "source": [
    "3. **Count Word Frequencies**\n",
    "\n",
    "    Use Python's collections.Counter to calculate word frequencies."
   ]
  },
  {
   "cell_type": "code",
   "execution_count": null,
   "metadata": {},
   "outputs": [],
   "source": [
    "from collections import Counter\n",
    "\n",
    "word_counts = Counter(tokens)\n",
    "most_common_words = word_counts.most_common(20)  # Top 20 most frequent words"
   ]
  },
  {
   "cell_type": "markdown",
   "metadata": {},
   "source": [
    "4. **Visualize Word Frequencies**\n",
    "\n",
    "Use Plotly to create a bar chart for the most frequent words."
   ]
  },
  {
   "cell_type": "code",
   "execution_count": 40,
   "metadata": {},
   "outputs": [
    {
     "data": {
      "application/vnd.plotly.v1+json": {
       "config": {
        "plotlyServerURL": "https://plot.ly"
       },
       "data": [
        {
         "marker": {
          "color": "lightskyblue"
         },
         "type": "bar",
         "x": [
          "من",
          "في",
          "علي",
          "الي",
          "SAR",
          "تم",
          "مبلغ",
          "عن",
          "ريال",
          "الرياض",
          "العزيز",
          "stc",
          "الان",
          "عميلنا",
          "رقم",
          "مع",
          "and",
          "the",
          "ارسل",
          "يومك"
         ],
         "y": [
          407,
          350,
          320,
          224,
          175,
          170,
          133,
          116,
          103,
          100,
          99,
          99,
          91,
          89,
          89,
          88,
          86,
          84,
          83,
          83
         ]
        }
       ],
       "layout": {
        "height": 500,
        "template": {
         "data": {
          "bar": [
           {
            "error_x": {
             "color": "#2a3f5f"
            },
            "error_y": {
             "color": "#2a3f5f"
            },
            "marker": {
             "line": {
              "color": "white",
              "width": 0.5
             },
             "pattern": {
              "fillmode": "overlay",
              "size": 10,
              "solidity": 0.2
             }
            },
            "type": "bar"
           }
          ],
          "barpolar": [
           {
            "marker": {
             "line": {
              "color": "white",
              "width": 0.5
             },
             "pattern": {
              "fillmode": "overlay",
              "size": 10,
              "solidity": 0.2
             }
            },
            "type": "barpolar"
           }
          ],
          "carpet": [
           {
            "aaxis": {
             "endlinecolor": "#2a3f5f",
             "gridcolor": "#C8D4E3",
             "linecolor": "#C8D4E3",
             "minorgridcolor": "#C8D4E3",
             "startlinecolor": "#2a3f5f"
            },
            "baxis": {
             "endlinecolor": "#2a3f5f",
             "gridcolor": "#C8D4E3",
             "linecolor": "#C8D4E3",
             "minorgridcolor": "#C8D4E3",
             "startlinecolor": "#2a3f5f"
            },
            "type": "carpet"
           }
          ],
          "choropleth": [
           {
            "colorbar": {
             "outlinewidth": 0,
             "ticks": ""
            },
            "type": "choropleth"
           }
          ],
          "contour": [
           {
            "colorbar": {
             "outlinewidth": 0,
             "ticks": ""
            },
            "colorscale": [
             [
              0,
              "#0d0887"
             ],
             [
              0.1111111111111111,
              "#46039f"
             ],
             [
              0.2222222222222222,
              "#7201a8"
             ],
             [
              0.3333333333333333,
              "#9c179e"
             ],
             [
              0.4444444444444444,
              "#bd3786"
             ],
             [
              0.5555555555555556,
              "#d8576b"
             ],
             [
              0.6666666666666666,
              "#ed7953"
             ],
             [
              0.7777777777777778,
              "#fb9f3a"
             ],
             [
              0.8888888888888888,
              "#fdca26"
             ],
             [
              1,
              "#f0f921"
             ]
            ],
            "type": "contour"
           }
          ],
          "contourcarpet": [
           {
            "colorbar": {
             "outlinewidth": 0,
             "ticks": ""
            },
            "type": "contourcarpet"
           }
          ],
          "heatmap": [
           {
            "colorbar": {
             "outlinewidth": 0,
             "ticks": ""
            },
            "colorscale": [
             [
              0,
              "#0d0887"
             ],
             [
              0.1111111111111111,
              "#46039f"
             ],
             [
              0.2222222222222222,
              "#7201a8"
             ],
             [
              0.3333333333333333,
              "#9c179e"
             ],
             [
              0.4444444444444444,
              "#bd3786"
             ],
             [
              0.5555555555555556,
              "#d8576b"
             ],
             [
              0.6666666666666666,
              "#ed7953"
             ],
             [
              0.7777777777777778,
              "#fb9f3a"
             ],
             [
              0.8888888888888888,
              "#fdca26"
             ],
             [
              1,
              "#f0f921"
             ]
            ],
            "type": "heatmap"
           }
          ],
          "heatmapgl": [
           {
            "colorbar": {
             "outlinewidth": 0,
             "ticks": ""
            },
            "colorscale": [
             [
              0,
              "#0d0887"
             ],
             [
              0.1111111111111111,
              "#46039f"
             ],
             [
              0.2222222222222222,
              "#7201a8"
             ],
             [
              0.3333333333333333,
              "#9c179e"
             ],
             [
              0.4444444444444444,
              "#bd3786"
             ],
             [
              0.5555555555555556,
              "#d8576b"
             ],
             [
              0.6666666666666666,
              "#ed7953"
             ],
             [
              0.7777777777777778,
              "#fb9f3a"
             ],
             [
              0.8888888888888888,
              "#fdca26"
             ],
             [
              1,
              "#f0f921"
             ]
            ],
            "type": "heatmapgl"
           }
          ],
          "histogram": [
           {
            "marker": {
             "pattern": {
              "fillmode": "overlay",
              "size": 10,
              "solidity": 0.2
             }
            },
            "type": "histogram"
           }
          ],
          "histogram2d": [
           {
            "colorbar": {
             "outlinewidth": 0,
             "ticks": ""
            },
            "colorscale": [
             [
              0,
              "#0d0887"
             ],
             [
              0.1111111111111111,
              "#46039f"
             ],
             [
              0.2222222222222222,
              "#7201a8"
             ],
             [
              0.3333333333333333,
              "#9c179e"
             ],
             [
              0.4444444444444444,
              "#bd3786"
             ],
             [
              0.5555555555555556,
              "#d8576b"
             ],
             [
              0.6666666666666666,
              "#ed7953"
             ],
             [
              0.7777777777777778,
              "#fb9f3a"
             ],
             [
              0.8888888888888888,
              "#fdca26"
             ],
             [
              1,
              "#f0f921"
             ]
            ],
            "type": "histogram2d"
           }
          ],
          "histogram2dcontour": [
           {
            "colorbar": {
             "outlinewidth": 0,
             "ticks": ""
            },
            "colorscale": [
             [
              0,
              "#0d0887"
             ],
             [
              0.1111111111111111,
              "#46039f"
             ],
             [
              0.2222222222222222,
              "#7201a8"
             ],
             [
              0.3333333333333333,
              "#9c179e"
             ],
             [
              0.4444444444444444,
              "#bd3786"
             ],
             [
              0.5555555555555556,
              "#d8576b"
             ],
             [
              0.6666666666666666,
              "#ed7953"
             ],
             [
              0.7777777777777778,
              "#fb9f3a"
             ],
             [
              0.8888888888888888,
              "#fdca26"
             ],
             [
              1,
              "#f0f921"
             ]
            ],
            "type": "histogram2dcontour"
           }
          ],
          "mesh3d": [
           {
            "colorbar": {
             "outlinewidth": 0,
             "ticks": ""
            },
            "type": "mesh3d"
           }
          ],
          "parcoords": [
           {
            "line": {
             "colorbar": {
              "outlinewidth": 0,
              "ticks": ""
             }
            },
            "type": "parcoords"
           }
          ],
          "pie": [
           {
            "automargin": true,
            "type": "pie"
           }
          ],
          "scatter": [
           {
            "fillpattern": {
             "fillmode": "overlay",
             "size": 10,
             "solidity": 0.2
            },
            "type": "scatter"
           }
          ],
          "scatter3d": [
           {
            "line": {
             "colorbar": {
              "outlinewidth": 0,
              "ticks": ""
             }
            },
            "marker": {
             "colorbar": {
              "outlinewidth": 0,
              "ticks": ""
             }
            },
            "type": "scatter3d"
           }
          ],
          "scattercarpet": [
           {
            "marker": {
             "colorbar": {
              "outlinewidth": 0,
              "ticks": ""
             }
            },
            "type": "scattercarpet"
           }
          ],
          "scattergeo": [
           {
            "marker": {
             "colorbar": {
              "outlinewidth": 0,
              "ticks": ""
             }
            },
            "type": "scattergeo"
           }
          ],
          "scattergl": [
           {
            "marker": {
             "colorbar": {
              "outlinewidth": 0,
              "ticks": ""
             }
            },
            "type": "scattergl"
           }
          ],
          "scattermapbox": [
           {
            "marker": {
             "colorbar": {
              "outlinewidth": 0,
              "ticks": ""
             }
            },
            "type": "scattermapbox"
           }
          ],
          "scatterpolar": [
           {
            "marker": {
             "colorbar": {
              "outlinewidth": 0,
              "ticks": ""
             }
            },
            "type": "scatterpolar"
           }
          ],
          "scatterpolargl": [
           {
            "marker": {
             "colorbar": {
              "outlinewidth": 0,
              "ticks": ""
             }
            },
            "type": "scatterpolargl"
           }
          ],
          "scatterternary": [
           {
            "marker": {
             "colorbar": {
              "outlinewidth": 0,
              "ticks": ""
             }
            },
            "type": "scatterternary"
           }
          ],
          "surface": [
           {
            "colorbar": {
             "outlinewidth": 0,
             "ticks": ""
            },
            "colorscale": [
             [
              0,
              "#0d0887"
             ],
             [
              0.1111111111111111,
              "#46039f"
             ],
             [
              0.2222222222222222,
              "#7201a8"
             ],
             [
              0.3333333333333333,
              "#9c179e"
             ],
             [
              0.4444444444444444,
              "#bd3786"
             ],
             [
              0.5555555555555556,
              "#d8576b"
             ],
             [
              0.6666666666666666,
              "#ed7953"
             ],
             [
              0.7777777777777778,
              "#fb9f3a"
             ],
             [
              0.8888888888888888,
              "#fdca26"
             ],
             [
              1,
              "#f0f921"
             ]
            ],
            "type": "surface"
           }
          ],
          "table": [
           {
            "cells": {
             "fill": {
              "color": "#EBF0F8"
             },
             "line": {
              "color": "white"
             }
            },
            "header": {
             "fill": {
              "color": "#C8D4E3"
             },
             "line": {
              "color": "white"
             }
            },
            "type": "table"
           }
          ]
         },
         "layout": {
          "annotationdefaults": {
           "arrowcolor": "#2a3f5f",
           "arrowhead": 0,
           "arrowwidth": 1
          },
          "autotypenumbers": "strict",
          "coloraxis": {
           "colorbar": {
            "outlinewidth": 0,
            "ticks": ""
           }
          },
          "colorscale": {
           "diverging": [
            [
             0,
             "#8e0152"
            ],
            [
             0.1,
             "#c51b7d"
            ],
            [
             0.2,
             "#de77ae"
            ],
            [
             0.3,
             "#f1b6da"
            ],
            [
             0.4,
             "#fde0ef"
            ],
            [
             0.5,
             "#f7f7f7"
            ],
            [
             0.6,
             "#e6f5d0"
            ],
            [
             0.7,
             "#b8e186"
            ],
            [
             0.8,
             "#7fbc41"
            ],
            [
             0.9,
             "#4d9221"
            ],
            [
             1,
             "#276419"
            ]
           ],
           "sequential": [
            [
             0,
             "#0d0887"
            ],
            [
             0.1111111111111111,
             "#46039f"
            ],
            [
             0.2222222222222222,
             "#7201a8"
            ],
            [
             0.3333333333333333,
             "#9c179e"
            ],
            [
             0.4444444444444444,
             "#bd3786"
            ],
            [
             0.5555555555555556,
             "#d8576b"
            ],
            [
             0.6666666666666666,
             "#ed7953"
            ],
            [
             0.7777777777777778,
             "#fb9f3a"
            ],
            [
             0.8888888888888888,
             "#fdca26"
            ],
            [
             1,
             "#f0f921"
            ]
           ],
           "sequentialminus": [
            [
             0,
             "#0d0887"
            ],
            [
             0.1111111111111111,
             "#46039f"
            ],
            [
             0.2222222222222222,
             "#7201a8"
            ],
            [
             0.3333333333333333,
             "#9c179e"
            ],
            [
             0.4444444444444444,
             "#bd3786"
            ],
            [
             0.5555555555555556,
             "#d8576b"
            ],
            [
             0.6666666666666666,
             "#ed7953"
            ],
            [
             0.7777777777777778,
             "#fb9f3a"
            ],
            [
             0.8888888888888888,
             "#fdca26"
            ],
            [
             1,
             "#f0f921"
            ]
           ]
          },
          "colorway": [
           "#636efa",
           "#EF553B",
           "#00cc96",
           "#ab63fa",
           "#FFA15A",
           "#19d3f3",
           "#FF6692",
           "#B6E880",
           "#FF97FF",
           "#FECB52"
          ],
          "font": {
           "color": "#2a3f5f"
          },
          "geo": {
           "bgcolor": "white",
           "lakecolor": "white",
           "landcolor": "white",
           "showlakes": true,
           "showland": true,
           "subunitcolor": "#C8D4E3"
          },
          "hoverlabel": {
           "align": "left"
          },
          "hovermode": "closest",
          "mapbox": {
           "style": "light"
          },
          "paper_bgcolor": "white",
          "plot_bgcolor": "white",
          "polar": {
           "angularaxis": {
            "gridcolor": "#EBF0F8",
            "linecolor": "#EBF0F8",
            "ticks": ""
           },
           "bgcolor": "white",
           "radialaxis": {
            "gridcolor": "#EBF0F8",
            "linecolor": "#EBF0F8",
            "ticks": ""
           }
          },
          "scene": {
           "xaxis": {
            "backgroundcolor": "white",
            "gridcolor": "#DFE8F3",
            "gridwidth": 2,
            "linecolor": "#EBF0F8",
            "showbackground": true,
            "ticks": "",
            "zerolinecolor": "#EBF0F8"
           },
           "yaxis": {
            "backgroundcolor": "white",
            "gridcolor": "#DFE8F3",
            "gridwidth": 2,
            "linecolor": "#EBF0F8",
            "showbackground": true,
            "ticks": "",
            "zerolinecolor": "#EBF0F8"
           },
           "zaxis": {
            "backgroundcolor": "white",
            "gridcolor": "#DFE8F3",
            "gridwidth": 2,
            "linecolor": "#EBF0F8",
            "showbackground": true,
            "ticks": "",
            "zerolinecolor": "#EBF0F8"
           }
          },
          "shapedefaults": {
           "line": {
            "color": "#2a3f5f"
           }
          },
          "ternary": {
           "aaxis": {
            "gridcolor": "#DFE8F3",
            "linecolor": "#A2B1C6",
            "ticks": ""
           },
           "baxis": {
            "gridcolor": "#DFE8F3",
            "linecolor": "#A2B1C6",
            "ticks": ""
           },
           "bgcolor": "white",
           "caxis": {
            "gridcolor": "#DFE8F3",
            "linecolor": "#A2B1C6",
            "ticks": ""
           }
          },
          "title": {
           "x": 0.05
          },
          "xaxis": {
           "automargin": true,
           "gridcolor": "#EBF0F8",
           "linecolor": "#EBF0F8",
           "ticks": "",
           "title": {
            "standoff": 15
           },
           "zerolinecolor": "#EBF0F8",
           "zerolinewidth": 2
          },
          "yaxis": {
           "automargin": true,
           "gridcolor": "#EBF0F8",
           "linecolor": "#EBF0F8",
           "ticks": "",
           "title": {
            "standoff": 15
           },
           "zerolinecolor": "#EBF0F8",
           "zerolinewidth": 2
          }
         }
        },
        "title": {
         "text": "Most Frequent Words in Messages"
        },
        "width": 800,
        "xaxis": {
         "tickangle": -45,
         "title": {
          "text": "Words"
         }
        },
        "yaxis": {
         "title": {
          "text": "Frequency"
         }
        }
       }
      }
     },
     "metadata": {},
     "output_type": "display_data"
    }
   ],
   "source": [
    "import plotly.graph_objects as go\n",
    "\n",
    "# Assuming `most_common_words` is a list of tuples (word, count)\n",
    "words, counts = zip(*most_common_words)  # Extract words and their counts\n",
    "\n",
    "# Create a bar chart using Plotly\n",
    "fig = go.Figure(data=[\n",
    "    go.Bar(x=words, y=counts, marker_color='lightskyblue')\n",
    "])\n",
    "\n",
    "# Customize layout\n",
    "fig.update_layout(\n",
    "    title='Most Frequent Words in Messages',\n",
    "    xaxis_title='Words',\n",
    "    yaxis_title='Frequency',\n",
    "    template='plotly_white',\n",
    "    xaxis=dict(tickangle=-45),  # Rotate x-axis labels\n",
    "    height=500,\n",
    "    width=800\n",
    ")\n",
    "\n",
    "# Display the figure\n",
    "fig.show()"
   ]
  },
  {
   "cell_type": "markdown",
   "metadata": {},
   "source": [
    "5. **Define Stop Words**\n",
    "\n",
    "    Manually identify and define common stop words to remove."
   ]
  },
  {
   "cell_type": "code",
   "execution_count": 41,
   "metadata": {},
   "outputs": [],
   "source": [
    "stop_words = {\"علي\", \"من\", \"في\", \"الي\", \"تم\", \"عن\", \"الان\", \"مع\"}"
   ]
  },
  {
   "cell_type": "markdown",
   "metadata": {},
   "source": [
    "6. **Remove Stop Words from Messages**\n",
    "\n",
    "    Filter out stop words from each message."
   ]
  },
  {
   "cell_type": "code",
   "execution_count": 42,
   "metadata": {},
   "outputs": [],
   "source": [
    "# Remove stop words from messages\n",
    "df2[\"Message Content\"] = df2[\"Message Content\"].apply(lambda x: \" \".join(\n",
    "    [word for word in x.split() if word not in stop_words]\n",
    "))"
   ]
  },
  {
   "cell_type": "code",
   "execution_count": 43,
   "metadata": {},
   "outputs": [
    {
     "data": {
      "text/plain": [
       "'عميلنا العزيز اكتشاف عطل فني هاتفكم رقم وتمت معالجته ونعتذر اي خلل قد تسبب فيه سابقا'"
      ]
     },
     "execution_count": 43,
     "metadata": {},
     "output_type": "execute_result"
    }
   ],
   "source": [
    "df2[\"Message Content\"][1]"
   ]
  },
  {
   "cell_type": "code",
   "execution_count": 27,
   "metadata": {},
   "outputs": [],
   "source": [
    "df2.to_csv(\"Data_cleaned_v2.csv\", index=False)"
   ]
  },
  {
   "cell_type": "markdown",
   "metadata": {},
   "source": [
    "### Version 3\n",
    "\n",
    "Remove English words from primarily Arabic text messages."
   ]
  },
  {
   "cell_type": "code",
   "execution_count": 64,
   "metadata": {},
   "outputs": [],
   "source": [
    "df3 = df2"
   ]
  },
  {
   "cell_type": "code",
   "execution_count": 66,
   "metadata": {},
   "outputs": [],
   "source": [
    "def is_arabic_text(text):\n",
    "    \"\"\"\n",
    "    Checks if the text is primarily Arabic by calculating the proportion of Arabic characters.\n",
    "    \"\"\"\n",
    "    arabic_chars = re.findall(r'[\\u0600-\\u06FF]', text)\n",
    "    return len(arabic_chars) / len(text) > 0.5 if len(text) > 0 else False\n",
    "\n",
    "def remove_english_words(text):\n",
    "    \"\"\"\n",
    "    Removes English words from Arabic text.\n",
    "    \"\"\"\n",
    "    # If the text is primarily Arabic, remove English words\n",
    "    if is_arabic_text(text):\n",
    "        text = re.sub(r'\\b[A-Za-z]+\\b', '', text)  # Remove English words\n",
    "        text = re.sub(r'\\s+', ' ', text).strip()   # Remove extra spaces\n",
    "    return text"
   ]
  },
  {
   "cell_type": "code",
   "execution_count": 67,
   "metadata": {},
   "outputs": [],
   "source": [
    "df3[\"Message Content\"] = df3[\"Message Content\"].apply(remove_english_words)"
   ]
  },
  {
   "cell_type": "code",
   "execution_count": 71,
   "metadata": {},
   "outputs": [],
   "source": [
    "df3 = df3.drop_duplicates()"
   ]
  },
  {
   "cell_type": "code",
   "execution_count": 73,
   "metadata": {},
   "outputs": [],
   "source": [
    "df3.to_csv(\"Data_cleaned_v3.csv\", index=False)"
   ]
  }
 ],
 "metadata": {
  "kernelspec": {
   "display_name": "Python 3",
   "language": "python",
   "name": "python3"
  },
  "language_info": {
   "codemirror_mode": {
    "name": "ipython",
    "version": 3
   },
   "file_extension": ".py",
   "mimetype": "text/x-python",
   "name": "python",
   "nbconvert_exporter": "python",
   "pygments_lexer": "ipython3",
   "version": "3.9.12"
  }
 },
 "nbformat": 4,
 "nbformat_minor": 2
}
